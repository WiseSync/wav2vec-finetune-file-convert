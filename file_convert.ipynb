{
 "cells": [
  {
   "cell_type": "markdown",
   "metadata": {},
   "source": [
    "轉換json到txt檔"
   ]
  },
  {
   "cell_type": "code",
   "execution_count": 8,
   "metadata": {},
   "outputs": [
    {
     "name": "stdout",
     "output_type": "stream",
     "text": [
      "轉換完成，結果已保存至 output.txt\n"
     ]
    }
   ],
   "source": [
    "import json\n",
    "import os\n",
    "import re  # 用於正則表達式處理\n",
    "\n",
    "input_file = 'transcript_zh-TW_train_vad_merged.json'  # 你的 JSON 檔案路徑\n",
    "output_file = 'output.txt'  # 輸出的 TXT 檔案路徑\n",
    "\n",
    "# 檢查 JSON 文件是否存在\n",
    "if not os.path.exists(input_file):\n",
    "    print(f\"錯誤：找不到文件 {input_file}\")\n",
    "    exit(1)\n",
    "\n",
    "# 讀取 JSON 資料\n",
    "with open(input_file, 'r', encoding='utf-8') as f:\n",
    "    data = json.load(f)\n",
    "\n",
    "# 打開輸出的 TXT 檔案進行寫入\n",
    "with open(output_file, 'w', encoding='utf-8') as f:\n",
    "    # 在開頭寫入標題\n",
    "    f.write('path|transcript\\n')\n",
    "\n",
    "    # 處理每一個 conversation\n",
    "    for entry in data:\n",
    "        # 確保每個 entry 內部有 'conversations'\n",
    "        if 'conversations' in entry:\n",
    "            conversations = entry['conversations']\n",
    "            audio_path = \"\"  # 初始化音頻路徑\n",
    "\n",
    "            for conversation in conversations:\n",
    "                if 'from' in conversation and 'value' in conversation:\n",
    "                    if conversation['from'] == 'user':\n",
    "                        # 取得音頻路徑並清理掉多餘的文本\n",
    "                        audio_path_match = re.search(r'<audio>(.*?)</audio>', conversation['value'])\n",
    "                        if audio_path_match:\n",
    "                            audio_path = audio_path_match.group(1)  # 提取音頻路徑部分\n",
    "                    elif conversation['from'] == 'assistant' and audio_path:\n",
    "                        # 取得轉錄文本並寫入\n",
    "                        transcript = conversation['value']\n",
    "                        f.write(f\"{audio_path}|{transcript}\\n\")\n",
    "                        # 處理完一對 user 和 assistant 之後，清空 audio_path\n",
    "                        audio_path = \"\"\n",
    "\n",
    "print(\"轉換完成，結果已保存至 output.txt\")\n"
   ]
  },
  {
   "cell_type": "markdown",
   "metadata": {},
   "source": [
    "轉換json到txt 並去掉標點符號"
   ]
  },
  {
   "cell_type": "code",
   "execution_count": 9,
   "metadata": {},
   "outputs": [
    {
     "name": "stdout",
     "output_type": "stream",
     "text": [
      "轉換完成，結果已保存至 output1.txt\n"
     ]
    }
   ],
   "source": [
    "import json\n",
    "import os\n",
    "import re  # 用於正則表達式處理\n",
    "\n",
    "input_file = 'transcript_zh-TW_train_vad_merged.json'  # 你的 JSON 檔案路徑\n",
    "output_file = 'output1.txt'  # 輸出的 TXT 檔案路徑\n",
    "\n",
    "# 檢查 JSON 文件是否存在\n",
    "if not os.path.exists(input_file):\n",
    "    print(f\"錯誤：找不到文件 {input_file}\")\n",
    "    exit(1)\n",
    "\n",
    "# 讀取 JSON 資料\n",
    "with open(input_file, 'r', encoding='utf-8') as f:\n",
    "    data = json.load(f)\n",
    "\n",
    "# 定義一個函數來去除標點符號\n",
    "def remove_punctuation(text):\n",
    "    # 使用正則表達式去除所有標點符號\n",
    "    return re.sub(r'[^\\w\\s]', '', text)\n",
    "\n",
    "# 打開輸出的 TXT 檔案進行寫入\n",
    "with open(output_file, 'w', encoding='utf-8') as f:\n",
    "    # 在開頭寫入標題\n",
    "    f.write('path|transcript\\n')\n",
    "\n",
    "    # 處理每一個 conversation\n",
    "    for entry in data:\n",
    "        # 確保每個 entry 內部有 'conversations'\n",
    "        if 'conversations' in entry:\n",
    "            conversations = entry['conversations']\n",
    "            audio_path = \"\"  # 初始化音頻路徑\n",
    "\n",
    "            for conversation in conversations:\n",
    "                if 'from' in conversation and 'value' in conversation:\n",
    "                    if conversation['from'] == 'user':\n",
    "                        # 取得音頻路徑並清理掉多餘的文本\n",
    "                        audio_path_match = re.search(r'<audio>(.*?)</audio>', conversation['value'])\n",
    "                        if audio_path_match:\n",
    "                            audio_path = audio_path_match.group(1)  # 提取音頻路徑部分\n",
    "                    elif conversation['from'] == 'assistant' and audio_path:\n",
    "                        # 取得轉錄文本並去除標點符號\n",
    "                        transcript = conversation['value']\n",
    "                        cleaned_transcript = remove_punctuation(transcript)\n",
    "                        f.write(f\"{audio_path}|{cleaned_transcript}\\n\")\n",
    "                        # 處理完一對 user 和 assistant 之後，清空 audio_path\n",
    "                        audio_path = \"\"\n",
    "\n",
    "print(\"轉換完成，結果已保存至 output1.txt\")\n"
   ]
  }
 ],
 "metadata": {
  "kernelspec": {
   "display_name": "3.11.0b4",
   "language": "python",
   "name": "python3"
  },
  "language_info": {
   "codemirror_mode": {
    "name": "ipython",
    "version": 3
   },
   "file_extension": ".py",
   "mimetype": "text/x-python",
   "name": "python",
   "nbconvert_exporter": "python",
   "pygments_lexer": "ipython3",
   "version": "3.11.0b4"
  }
 },
 "nbformat": 4,
 "nbformat_minor": 2
}
